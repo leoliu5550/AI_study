{
 "cells": [
  {
   "cell_type": "code",
   "execution_count": 12,
   "metadata": {},
   "outputs": [],
   "source": [
    "from torch.utils.data import DataLoader,Dataset\n",
    "import torch\n",
    "import pickle\n",
    "import matplotlib.pyplot as plt\n",
    "%matplotlib notebook\n",
    "import numpy as np\n",
    "import PIL.Image"
   ]
  },
  {
   "cell_type": "markdown",
   "metadata": {},
   "source": [
    "# 取用資料的框架"
   ]
  },
  {
   "cell_type": "code",
   "execution_count": 11,
   "metadata": {},
   "outputs": [],
   "source": [
    "class CDataset(Dataset):\n",
    "    def __init__(self,data_dir):\n",
    "        '''\n",
    "        大概有兩種用法\n",
    "        1.把所有要用的資料一次性的都存進來\n",
    "        2.當資料太大，會塞爆記憶體的時候，可以定義文件的索引就好，在真的要用資料的時候才根據索引讀取資料\n",
    "            2.比起1. 較慢\n",
    "        '''\n",
    "        self.data_dir = data_dir\n",
    "        self.meda_data = 'batches.meta'\n",
    "        self.bath_train_list = ['data_batch_'+str(i) for i in range(1,6,1)]\n",
    "        self.bath_test = 'test_batch'\n",
    "\n",
    "    def __getitem__(self,bat,idx):\n",
    "        path = os.path.join(\n",
    "            self.data_dir,\n",
    "            self.bath_train_list[bat]\n",
    "        )\n",
    "        \n",
    "        data = self.unpickle(path)\n",
    "        \n",
    "        img = np.transpose(np.reshape(data[b'data'][idx],(3, 32,32)), (1,2,0))\n",
    "        \n",
    "        # data prepare\n",
    "        img_tensor = torch.from_numpy(img)\n",
    "        label = data[b'labels'][idx]\n",
    "        label_name = data[b'filenames'][idx]\n",
    "        \n",
    "        return {label,label_name,img_tensor}\n",
    "    \n",
    "    def __len__(self):\n",
    "    # 需要返回資料的長度，取資料的時候才知道要找哪個\n",
    "    \n",
    "        pass\n",
    "    \n",
    "    # 一些可能會用到的工具\n",
    "    @staticmethod\n",
    "    def unpickle(file):\n",
    "        with open(file, 'rb') as fo:\n",
    "            dict = pickle.load(fo, encoding='bytes')\n",
    "        return dict"
   ]
  },
  {
   "cell_type": "markdown",
   "metadata": {
    "tags": []
   },
   "source": [
    "## peek a little image data"
   ]
  },
  {
   "cell_type": "code",
   "execution_count": 13,
   "metadata": {},
   "outputs": [],
   "source": [
    "data = CDataset.unpickle(r'/Users/leoliu/Documents/AI_study/DATA/cifar-10-batches-py/data_batch_1')"
   ]
  },
  {
   "cell_type": "code",
   "execution_count": 15,
   "metadata": {},
   "outputs": [
    {
     "data": {
      "text/plain": [
       "dict_keys([b'batch_label', b'labels', b'data', b'filenames'])"
      ]
     },
     "execution_count": 15,
     "metadata": {},
     "output_type": "execute_result"
    }
   ],
   "source": [
    "data.keys()"
   ]
  },
  {
   "cell_type": "markdown",
   "metadata": {},
   "source": [
    "其中一張圖片的名字和圖像，一隻小青蛙"
   ]
  },
  {
   "cell_type": "code",
   "execution_count": 4,
   "metadata": {},
   "outputs": [
    {
     "name": "stdout",
     "output_type": "stream",
     "text": [
      "b'leptodactylus_pentadactylus_s_000004.png'\n",
      "(3072,)\n"
     ]
    },
    {
     "data": {
      "image/png": "[encoded data removed]",
      "text/plain": [
       "<PIL.Image.Image image mode=RGB size=32x32>"
      ]
     },
     "execution_count": 4,
     "metadata": {},
     "output_type": "execute_result"
    }
   ],
   "source": [
    "print(data[b'filenames'][0])\n",
    "print(data[b'data'][0].shape) #3072 = 32*32*3)\n",
    "# img = np.reshape(data[b'data'][0], (32,32,3), order='F') # Fortran-like indexing order\n",
    "img = np.transpose(np.reshape(data[b'data'][0],(3, 32,32)), (1,2,0))\n",
    "PIL.Image.fromarray(img)\n",
    "# plt.imshow(img)"
   ]
  },
  {
   "cell_type": "markdown",
   "metadata": {
    "jp-MarkdownHeadingCollapsed": true,
    "tags": []
   },
   "source": [
    "## access data"
   ]
  },
  {
   "cell_type": "code",
   "execution_count": 9,
   "metadata": {},
   "outputs": [],
   "source": [
    "data_dir = r'DATA/cifar-10-batches-py/data_batch_3'\n",
    "cifar = CDataset(data_dir)"
   ]
  },
  {
   "cell_type": "code",
   "execution_count": 10,
   "metadata": {},
   "outputs": [
    {
     "data": {
      "text/plain": [
       "['data_batch_1',\n",
       " 'data_batch_2',\n",
       " 'data_batch_3',\n",
       " 'data_batch_4',\n",
       " 'data_batch_5']"
      ]
     },
     "execution_count": 10,
     "metadata": {},
     "output_type": "execute_result"
    }
   ],
   "source": [
    "cifar.bath_list"
   ]
  },
  {
   "cell_type": "markdown",
   "metadata": {},
   "source": [
    "# CNN frame"
   ]
  },
  {
   "cell_type": "code",
   "execution_count": null,
   "metadata": {},
   "outputs": [],
   "source": []
  }
 ],
 "metadata": {
  "kernelspec": {
   "display_name": "Python 3 (ipykernel)",
   "language": "python",
   "name": "python3"
  },
  "language_info": {
   "codemirror_mode": {
    "name": "ipython",
    "version": 3
   },
   "file_extension": ".py",
   "mimetype": "text/x-python",
   "name": "python",
   "nbconvert_exporter": "python",
   "pygments_lexer": "ipython3",
   "version": "3.9.10"
  },
  "toc": {
   "base_numbering": 1,
   "nav_menu": {},
   "number_sections": true,
   "sideBar": true,
   "skip_h1_title": false,
   "title_cell": "Table of Contents",
   "title_sidebar": "Contents",
   "toc_cell": false,
   "toc_position": {},
   "toc_section_display": true,
   "toc_window_display": false
  },
  "vscode": {
   "interpreter": {
    "hash": "7621193516555b077f43f7fce2c25ae51a16bb080c2dea7eaeb228aa27bf63d2"
   }
  }
 },
 "nbformat": 4,
 "nbformat_minor": 4
}
